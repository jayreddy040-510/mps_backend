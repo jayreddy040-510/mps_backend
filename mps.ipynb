{
 "cells": [
  {
   "cell_type": "code",
   "execution_count": 49,
   "id": "8b1b57f4",
   "metadata": {},
   "outputs": [
    {
     "name": "stderr",
     "output_type": "stream",
     "text": [
      "Some weights of the model checkpoint at bert-base-uncased were not used when initializing BertForMaskedLM: ['cls.seq_relationship.bias', 'cls.seq_relationship.weight']\n",
      "- This IS expected if you are initializing BertForMaskedLM from the checkpoint of a model trained on another task or with another architecture (e.g. initializing a BertForSequenceClassification model from a BertForPreTraining model).\n",
      "- This IS NOT expected if you are initializing BertForMaskedLM from the checkpoint of a model that you expect to be exactly identical (initializing a BertForSequenceClassification model from a BertForSequenceClassification model).\n"
     ]
    }
   ],
   "source": [
    "import torch\n",
    "from transformers import AutoTokenizer, AutoModelForMaskedLM\n",
    "\n",
    "tokenizer = AutoTokenizer.from_pretrained(\"bert-base-uncased\")\n",
    "\n",
    "model = AutoModelForMaskedLM.from_pretrained(\"bert-base-uncased\")"
   ]
  },
  {
   "cell_type": "code",
   "execution_count": 50,
   "id": "a725535e",
   "metadata": {},
   "outputs": [],
   "source": [
    "torch.backends.mps.is_available()\n",
    "torch.backends.mps.is_built()\n",
    "mps_device = torch.device(\"mps\")\n",
    "x = torch.ones(45, device=\"mps\")"
   ]
  },
  {
   "cell_type": "code",
   "execution_count": 51,
   "id": "b7f10c11",
   "metadata": {},
   "outputs": [],
   "source": [
    "tokenizer = AutoTokenizer.from_pretrained(\"bert-base-uncased\")"
   ]
  },
  {
   "cell_type": "code",
   "execution_count": 56,
   "id": "e566719e",
   "metadata": {},
   "outputs": [],
   "source": [
    "input: str | list = \"hello girl\"\n",
    "tokenized_input = tokenizer.encode(input, return_tensors='pt')"
   ]
  },
  {
   "cell_type": "code",
   "execution_count": 57,
   "id": "76e04791",
   "metadata": {},
   "outputs": [
    {
     "data": {
      "text/plain": [
       "MaskedLMOutput(loss=None, logits=tensor([[[ -7.0503,  -6.9662,  -6.9549,  ...,  -6.2060,  -6.0744,  -4.1599],\n",
       "         [-10.8534, -10.8050, -11.1400,  ..., -10.6445,  -8.9293,  -6.9133],\n",
       "         [-13.9007, -14.3749, -14.2690,  ..., -12.0532, -12.2071,  -2.4537],\n",
       "         [-12.5127, -12.3135, -12.0884,  ..., -10.2607, -10.0095, -11.4897]]],\n",
       "       grad_fn=<ViewBackward0>), hidden_states=None, attentions=None)"
      ]
     },
     "execution_count": 57,
     "metadata": {},
     "output_type": "execute_result"
    }
   ],
   "source": [
    "output = model(tokenized_input)\n",
    "output"
   ]
  },
  {
   "cell_type": "code",
   "execution_count": 58,
   "id": "db15af95",
   "metadata": {},
   "outputs": [
    {
     "name": "stdout",
     "output_type": "stream",
     "text": [
      ". hello..\n"
     ]
    }
   ],
   "source": [
    "# Convert predicted token ids back to human-readable text\n",
    "predicted_text = tokenizer.decode(output[0][0].argmax(dim=1).tolist())\n",
    "print(predicted_text)\n"
   ]
  },
  {
   "cell_type": "code",
   "execution_count": 47,
   "id": "63426ef7",
   "metadata": {},
   "outputs": [
    {
     "name": "stdout",
     "output_type": "stream",
     "text": [
      "\n"
     ]
    }
   ],
   "source": []
  }
 ],
 "metadata": {
  "kernelspec": {
   "display_name": "mps-venv-kernel",
   "language": "python",
   "name": "mps-venv-kernel"
  },
  "language_info": {
   "codemirror_mode": {
    "name": "ipython",
    "version": 3
   },
   "file_extension": ".py",
   "mimetype": "text/x-python",
   "name": "python",
   "nbconvert_exporter": "python",
   "pygments_lexer": "ipython3",
   "version": "3.11.0"
  }
 },
 "nbformat": 4,
 "nbformat_minor": 5
}
