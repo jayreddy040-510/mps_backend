{
 "cells": [
  {
   "cell_type": "code",
   "execution_count": 19,
   "id": "8b1b57f4",
   "metadata": {},
   "outputs": [
    {
     "name": "stderr",
     "output_type": "stream",
     "text": [
      "Some weights of the model checkpoint at bert-base-uncased were not used when initializing BertForMaskedLM: ['cls.seq_relationship.bias', 'cls.seq_relationship.weight']\n",
      "- This IS expected if you are initializing BertForMaskedLM from the checkpoint of a model trained on another task or with another architecture (e.g. initializing a BertForSequenceClassification model from a BertForPreTraining model).\n",
      "- This IS NOT expected if you are initializing BertForMaskedLM from the checkpoint of a model that you expect to be exactly identical (initializing a BertForSequenceClassification model from a BertForSequenceClassification model).\n"
     ]
    }
   ],
   "source": [
    "import torch\n",
    "from transformers import AutoTokenizer, AutoModelForMaskedLM\n",
    "\n",
    "tokenizer = AutoTokenizer.from_pretrained(\"bert-base-uncased\")\n",
    "\n",
    "model = AutoModelForMaskedLM.from_pretrained(\"bert-base-uncased\")"
   ]
  },
  {
   "cell_type": "code",
   "execution_count": 20,
   "id": "dd32f720",
   "metadata": {},
   "outputs": [],
   "source": [
    "torch.backends.mps.is_available()\n",
    "torch.backends.mps.is_built()\n",
    "mps_device = torch.device(\"mps\")\n",
    "x = torch.ones(45, device=\"mps\")"
   ]
  },
  {
   "cell_type": "code",
   "execution_count": 31,
   "id": "ad05274b",
   "metadata": {},
   "outputs": [],
   "source": [
    "tokenizer = AutoTokenizer.from_pretrained(\"bert-base-uncased\")"
   ]
  },
  {
   "cell_type": "code",
   "execution_count": 38,
   "id": "d6962327",
   "metadata": {},
   "outputs": [],
   "source": [
    "input: str | list = \"hello world\"\n",
    "tokenized_input = tokenizer.encode(input, return_tensors='pt')"
   ]
  },
  {
   "cell_type": "code",
   "execution_count": 44,
   "id": "d049312e",
   "metadata": {},
   "outputs": [
    {
     "data": {
      "text/plain": [
       "MaskedLMOutput(loss=None, logits=tensor([[[ -7.1909,  -7.0791,  -7.0640,  ...,  -6.1842,  -6.2977,  -4.2038],\n",
       "         [ -9.6314,  -9.4228,  -9.5366,  ...,  -9.2170,  -8.3938,  -5.9639],\n",
       "         [-12.5930, -12.9342, -12.8723,  ..., -11.7490, -11.0491,  -4.2497],\n",
       "         [-12.2999, -12.2242, -12.0449,  ..., -10.0910,  -9.9382, -11.6595]]],\n",
       "       grad_fn=<ViewBackward0>), hidden_states=None, attentions=None)"
      ]
     },
     "execution_count": 44,
     "metadata": {},
     "output_type": "execute_result"
    }
   ],
   "source": [
    "output = model(tokenized_input)\n",
    "output"
   ]
  },
  {
   "cell_type": "code",
   "execution_count": 45,
   "id": "6173aef8",
   "metadata": {},
   "outputs": [],
   "source": [
    "masked_token_index = torch.where(tokenized_input == tokenizer.mask_token_id)[1]\n",
    "predicted_token_ids = torch.argmax(output[0][0, masked_token_index], dim=1)"
   ]
  },
  {
   "cell_type": "code",
   "execution_count": 47,
   "id": "47cea4d6",
   "metadata": {},
   "outputs": [
    {
     "name": "stdout",
     "output_type": "stream",
     "text": [
      "\n"
     ]
    }
   ],
   "source": [
    "predicted_text = tokenizer.decode(predicted_token_ids)\n",
    "\n",
    "print(predicted_text)"
   ]
  }
 ],
 "metadata": {
  "kernelspec": {
   "display_name": "mps-venv-kernel",
   "language": "python",
   "name": "mps-venv-kernel"
  },
  "language_info": {
   "codemirror_mode": {
    "name": "ipython",
    "version": 3
   },
   "file_extension": ".py",
   "mimetype": "text/x-python",
   "name": "python",
   "nbconvert_exporter": "python",
   "pygments_lexer": "ipython3",
   "version": "3.11.0"
  }
 },
 "nbformat": 4,
 "nbformat_minor": 5
}
