{
 "cells": [
  {
   "cell_type": "code",
   "execution_count": 1,
   "id": "8b1b57f4",
   "metadata": {},
   "outputs": [
    {
     "name": "stderr",
     "output_type": "stream",
     "text": [
      "/Users/jayreddy/notebooks/mps_backend/venv/lib/python3.11/site-packages/tqdm/auto.py:21: TqdmWarning: IProgress not found. Please update jupyter and ipywidgets. See https://ipywidgets.readthedocs.io/en/stable/user_install.html\n",
      "  from .autonotebook import tqdm as notebook_tqdm\n",
      "Some weights of the model checkpoint at bert-base-uncased were not used when initializing BertForMaskedLM: ['cls.seq_relationship.bias', 'cls.seq_relationship.weight']\n",
      "- This IS expected if you are initializing BertForMaskedLM from the checkpoint of a model trained on another task or with another architecture (e.g. initializing a BertForSequenceClassification model from a BertForPreTraining model).\n",
      "- This IS NOT expected if you are initializing BertForMaskedLM from the checkpoint of a model that you expect to be exactly identical (initializing a BertForSequenceClassification model from a BertForSequenceClassification model).\n"
     ]
    }
   ],
   "source": [
    "# import torch, tokenizer and bert-base-uncased model\n",
    "import torch\n",
    "from transformers import AutoTokenizer, AutoModelForMaskedLM\n",
    "\n",
    "tokenizer = AutoTokenizer.from_pretrained(\"bert-base-uncased\")\n",
    "\n",
    "model = AutoModelForMaskedLM.from_pretrained(\"bert-base-uncased\")"
   ]
  },
  {
   "cell_type": "code",
   "execution_count": 6,
   "id": "a725535e",
   "metadata": {},
   "outputs": [
    {
     "name": "stderr",
     "output_type": "stream",
     "text": [
      "Found cached dataset sms_spam (/Users/jayreddy/.cache/huggingface/datasets/sms_spam/plain_text/1.0.0/53f051d3b5f62d99d61792c91acefe4f1577ad3e4c216fb0ad39e30b9f20019c)\n",
      "100%|███████████████████████████████████| 1/1 [00:00<00:00, 568.49it/s]\n"
     ]
    }
   ],
   "source": [
    "# import datasets lib and sms_spam dataset\n",
    "from datasets import load_dataset\n",
    "raw_dataset = load_dataset(\"sms_spam\")\n",
    "\n",
    "# check if mps gpu is available\n",
    "torch.backends.mps.is_available()\n",
    "torch.backends.mps.is_built()\n",
    "mps_device = torch.device(\"mps\")\n",
    "x = torch.ones(45, device=\"mps\")"
   ]
  },
  {
   "cell_type": "code",
   "execution_count": 9,
   "id": "e566719e",
   "metadata": {},
   "outputs": [],
   "source": [
    "def preprocessing_tokenize_data(sms):\n",
    "    return tokenizer(\n",
    "        sms['sms'], padding='max_length', truncation=True, max_length=128\n",
    "    )"
   ]
  },
  {
   "cell_type": "code",
   "execution_count": 18,
   "id": "76e04791",
   "metadata": {},
   "outputs": [
    {
     "name": "stderr",
     "output_type": "stream",
     "text": [
      "Loading cached processed dataset at /Users/jayreddy/.cache/huggingface/datasets/sms_spam/plain_text/1.0.0/53f051d3b5f62d99d61792c91acefe4f1577ad3e4c216fb0ad39e30b9f20019c/cache-8021552568c79186.arrow\n"
     ]
    }
   ],
   "source": [
    "# final preprocessing steps after tokenizing dataset\n",
    "tokenized_dataset = raw_dataset.map(preprocessing_tokenize_data, batched=True)\n",
    "tokenized_dataset = tokenized_dataset.remove_columns('sms')\n",
    "tokenized_dataset = tokenized_dataset.rename_column(\"label\", \"labels\")\n",
    "tokenized_dataset = tokenized_dataset.with_format(\"torch\")"
   ]
  }
 ],
 "metadata": {
  "kernelspec": {
   "display_name": "mps-venv-kernel",
   "language": "python",
   "name": "mps-venv-kernel"
  },
  "language_info": {
   "codemirror_mode": {
    "name": "ipython",
    "version": 3
   },
   "file_extension": ".py",
   "mimetype": "text/x-python",
   "name": "python",
   "nbconvert_exporter": "python",
   "pygments_lexer": "ipython3",
   "version": "3.11.0"
  }
 },
 "nbformat": 4,
 "nbformat_minor": 5
}
